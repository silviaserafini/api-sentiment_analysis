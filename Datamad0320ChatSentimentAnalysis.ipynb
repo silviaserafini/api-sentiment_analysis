{
 "cells": [
  {
   "cell_type": "markdown",
   "metadata": {},
   "source": [
    "# Use of the Slack Api to fetch the history of the channel"
   ]
  },
  {
   "cell_type": "code",
   "execution_count": 31,
   "metadata": {},
   "outputs": [
    {
     "name": "stdout",
     "output_type": "stream",
     "text": [
      "WE HAVE TOKEN\n",
      "WE HAVE CHANNEL\n"
     ]
    }
   ],
   "source": [
    "import requests \n",
    "import os\n",
    "from dotenv import load_dotenv\n",
    "import pandas as pd\n",
    "import nltk\n",
    "import ast\n",
    "from nltk.sentiment.vader import SentimentIntensityAnalyzer\n",
    "from sklearn.feature_extraction.text import CountVectorizer\n",
    "from sklearn.metrics.pairwise import cosine_similarity as distance\n",
    "from src.app import app\n",
    "from pymongo import MongoClient\n",
    "from src.helpers.errorHandler import errorHandler ,Error404 ,APIError\n",
    "from src.config import DBURL\n",
    "from bson.json_util import dumps\n",
    "from bson import ObjectId\n",
    "import json\n",
    "load_dotenv()\n",
    "\n",
    "# Load the apikey\n",
    "token = os.getenv(\"TOKENSLACK\")\n",
    "channel=os.getenv('CHANNEL')\n",
    "print(\"WE HAVE TOKEN\") if token else print(\"NO TOKEN FOUND\")\n",
    "print(\"WE HAVE CHANNEL\") if channel else print(\"NO CHANNEL FOUND\")\n"
   ]
  },
  {
   "cell_type": "code",
   "execution_count": 4,
   "metadata": {},
   "outputs": [],
   "source": [
    "url='https://slack.com/api/channels.history?token={token}&channel={channel}&count=678&pretty=1'\n"
   ]
  },
  {
   "cell_type": "code",
   "execution_count": 10,
   "metadata": {},
   "outputs": [],
   "source": [
    "from slacker import Slacker\n",
    "# Authenticate with slacker\n",
    "slack = Slacker(token)"
   ]
  },
  {
   "cell_type": "code",
   "execution_count": 11,
   "metadata": {},
   "outputs": [
    {
     "name": "stdout",
     "output_type": "stream",
     "text": [
      "Connected to Data Mad March 2020.\n"
     ]
    }
   ],
   "source": [
    "# Check for success\n",
    "if slack.api.test().successful:\n",
    "    print(\n",
    "        f\"Connected to {slack.team.info().body['team']['name']}.\")\n",
    "else:\n",
    "    print('Try Again!')"
   ]
  },
  {
   "cell_type": "code",
   "execution_count": 18,
   "metadata": {},
   "outputs": [],
   "source": [
    "r = slack.channels.history( channel=channel,count=678)\n",
    "\n",
    "history = r.body"
   ]
  },
  {
   "cell_type": "code",
   "execution_count": 25,
   "metadata": {},
   "outputs": [],
   "source": [
    "#Retrive all the text and user\n",
    "chat=[]\n",
    "for mes in history['messages']:\n",
    "    try:\n",
    "        chat.append({\n",
    "            'user': mes['user'],\n",
    "            'text': mes['text']\n",
    "        })\n",
    "    except:\n",
    "        continue"
   ]
  },
  {
   "cell_type": "code",
   "execution_count": 27,
   "metadata": {},
   "outputs": [],
   "source": [
    "df=pd.DataFrame(chat)"
   ]
  },
  {
   "cell_type": "code",
   "execution_count": 30,
   "metadata": {},
   "outputs": [
    {
     "data": {
      "text/html": [
       "<div>\n",
       "<style scoped>\n",
       "    .dataframe tbody tr th:only-of-type {\n",
       "        vertical-align: middle;\n",
       "    }\n",
       "\n",
       "    .dataframe tbody tr th {\n",
       "        vertical-align: top;\n",
       "    }\n",
       "\n",
       "    .dataframe thead th {\n",
       "        text-align: right;\n",
       "    }\n",
       "</style>\n",
       "<table border=\"1\" class=\"dataframe\">\n",
       "  <thead>\n",
       "    <tr style=\"text-align: right;\">\n",
       "      <th></th>\n",
       "      <th>user</th>\n",
       "      <th>text</th>\n",
       "    </tr>\n",
       "  </thead>\n",
       "  <tbody>\n",
       "    <tr>\n",
       "      <th>0</th>\n",
       "      <td>U010F1FCBGU</td>\n",
       "      <td>gracias tío!!!</td>\n",
       "    </tr>\n",
       "    <tr>\n",
       "      <th>1</th>\n",
       "      <td>U010H826R1D</td>\n",
       "      <td>Chicos, ya tenéis la semana 3 de clases en mi ...</td>\n",
       "    </tr>\n",
       "    <tr>\n",
       "      <th>2</th>\n",
       "      <td>U010F1FCBGU</td>\n",
       "      <td>&lt;https://www.aprendemachinelearning.com/ejerci...</td>\n",
       "    </tr>\n",
       "    <tr>\n",
       "      <th>3</th>\n",
       "      <td>U010F1FCBGU</td>\n",
       "      <td>Buenas! Dejo esto por aquí</td>\n",
       "    </tr>\n",
       "    <tr>\n",
       "      <th>4</th>\n",
       "      <td>U0102M41WV8</td>\n",
       "      <td>muchas gracias david!!</td>\n",
       "    </tr>\n",
       "  </tbody>\n",
       "</table>\n",
       "</div>"
      ],
      "text/plain": [
       "          user                                               text\n",
       "0  U010F1FCBGU                                     gracias tío!!!\n",
       "1  U010H826R1D  Chicos, ya tenéis la semana 3 de clases en mi ...\n",
       "2  U010F1FCBGU  <https://www.aprendemachinelearning.com/ejerci...\n",
       "3  U010F1FCBGU                         Buenas! Dejo esto por aquí\n",
       "4  U0102M41WV8                             muchas gracias david!!"
      ]
     },
     "metadata": {},
     "output_type": "display_data"
    }
   ],
   "source": [
    "display(df.head())"
   ]
  },
  {
   "cell_type": "markdown",
   "metadata": {},
   "source": [
    "# Adding of the datamad0320 chat to the database"
   ]
  },
  {
   "cell_type": "code",
   "execution_count": null,
   "metadata": {},
   "outputs": [],
   "source": [
    "#set of datamad0320 users\n",
    "users_unique=set(df['user'].values)"
   ]
  },
  {
   "cell_type": "code",
   "execution_count": 90,
   "metadata": {},
   "outputs": [],
   "source": [
    "#add the users to mongodb database\n",
    "usersIds={}\n",
    "for username in users_unique:\n",
    "    r = requests.get(f'http://localhost:3500///user/create/{username}')\n",
    "    usersIds[username]=(r.json()['user_id'])\n"
   ]
  },
  {
   "cell_type": "code",
   "execution_count": 94,
   "metadata": {
    "scrolled": true
   },
   "outputs": [
    {
     "data": {
      "text/plain": [
       "['5eaec9762908c7e2052a6ab8',\n",
       " '5eaec9762908c7e2052a6ab9',\n",
       " '5eaec9762908c7e2052a6aba',\n",
       " '5eaec9762908c7e2052a6abb',\n",
       " '5eaec9762908c7e2052a6abc']"
      ]
     },
     "execution_count": 94,
     "metadata": {},
     "output_type": "execute_result"
    }
   ],
   "source": [
    "list(usersIds.values())[0:5]"
   ]
  },
  {
   "cell_type": "code",
   "execution_count": 95,
   "metadata": {},
   "outputs": [],
   "source": [
    "#creation of the new chat dataMad0320\n",
    "chat_name='dataMad0320'\n",
    "users_ids=list(usersIds.values())\n",
    "r = requests.get(f'http://localhost:3500//chat/create?ids={users_ids}&name={chat_name}')\n",
    "chatId=r.json()['chat_id']"
   ]
  },
  {
   "cell_type": "code",
   "execution_count": 96,
   "metadata": {},
   "outputs": [
    {
     "data": {
      "text/plain": [
       "'5eaec9f02908c7e2052a6ad0'"
      ]
     },
     "execution_count": 96,
     "metadata": {},
     "output_type": "execute_result"
    }
   ],
   "source": [
    "chatId"
   ]
  },
  {
   "cell_type": "code",
   "execution_count": 97,
   "metadata": {},
   "outputs": [],
   "source": [
    "#add the messages to the chat\n",
    "messagesIds=[]\n",
    "for mes in chat:#chat is a list of dictionaties {'user':user,'text':text}\n",
    "    user=mes['user']\n",
    "    user_id=usersIds[user]\n",
    "    text=mes['text']\n",
    "    r = requests.get(f'http://localhost:3500///chat/{chatId}/addmessage?user_id={user_id}&text={text}')\n",
    "    messagesIds.append(r.json()['message_id'])"
   ]
  },
  {
   "cell_type": "markdown",
   "metadata": {},
   "source": [
    "# Sentiment analysis of the chat"
   ]
  },
  {
   "cell_type": "code",
   "execution_count": 99,
   "metadata": {},
   "outputs": [
    {
     "name": "stderr",
     "output_type": "stream",
     "text": [
      "/Users/silviaserafini/Library/Python/3.6/lib/python/site-packages/sklearn/externals/joblib/__init__.py:15: FutureWarning: sklearn.externals.joblib is deprecated in 0.21 and will be removed in 0.23. Please import this functionality directly from joblib, which can be installed with: pip install joblib. If this warning is raised when loading pickled models, you may need to re-serialize those models with scikit-learn 0.21+.\n",
      "  warnings.warn(msg, category=FutureWarning)\n"
     ]
    },
    {
     "data": {
      "text/plain": [
       "-0.4168880100205129"
      ]
     },
     "execution_count": 99,
     "metadata": {},
     "output_type": "execute_result"
    }
   ],
   "source": [
    "from classifier import *\n",
    "clf = SentimentClassifier()\n",
    "clf.predict(e)\n",
    "r = requests.get(f'http://localhost:3500///chat/{chatId}/sentiment?lang=es')\n",
    "r.json()['chat_sentiment']\n"
   ]
  },
  {
   "cell_type": "code",
   "execution_count": null,
   "metadata": {},
   "outputs": [],
   "source": []
  },
  {
   "cell_type": "code",
   "execution_count": null,
   "metadata": {},
   "outputs": [],
   "source": []
  },
  {
   "cell_type": "code",
   "execution_count": null,
   "metadata": {},
   "outputs": [],
   "source": []
  }
 ],
 "metadata": {
  "kernelspec": {
   "display_name": "Python 3",
   "language": "python",
   "name": "python3"
  },
  "language_info": {
   "codemirror_mode": {
    "name": "ipython",
    "version": 3
   },
   "file_extension": ".py",
   "mimetype": "text/x-python",
   "name": "python",
   "nbconvert_exporter": "python",
   "pygments_lexer": "ipython3",
   "version": "3.6.2"
  }
 },
 "nbformat": 4,
 "nbformat_minor": 2
}
